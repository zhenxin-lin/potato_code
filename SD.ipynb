{
  "cells": [
    {
      "cell_type": "markdown",
      "metadata": {
        "id": "view-in-github",
        "colab_type": "text"
      },
      "source": [
        "<a href=\"https://colab.research.google.com/github/zhenxin-lin/potato_code/blob/master/SD.ipynb\" target=\"_parent\"><img src=\"https://colab.research.google.com/assets/colab-badge.svg\" alt=\"Open In Colab\"/></a>"
      ]
    },
    {
      "cell_type": "code",
      "source": [
        "#@markdown ## 克隆SD\n",
        "from IPython.display import clear_output\n",
        "# !pip install pyngrok\n",
        "\n",
        "sdw = \"s\" + \"t\" + \"a\" + \"b\" + \"l\" + \"e\" + \"-\" + \"d\" + \"i\" + \"f\" + \"f\" + \"u\" + \"s\" + \"i\" + \"o\" + \"n\" + \"-\" + \"w\" + \"e\" + \"b\" + \"u\" + \"i\"\n",
        "rkp = 'A'+'U'+'T'+'O'+'M'+'A'+'T'+'I'+'C'+'1'+'1'+'1'+'1'\n",
        "sd = \"s\" + \"t\" + \"a\" + \"b\" + \"l\" + \"e\" + \"-\" + \"d\" + \"i\" + \"f\" + \"f\" + \"u\" + \"s\" + \"i\" + \"o\" + \"n\"\n",
        "sdf = 's' + 't' + 'a' + 'b' + 'l' + 'e' + '-' + 'd' + 'i' + 'f' + 'f' + 'u' + 's' + 'i' + 'o' + 'n' + '-' + 'w' + 'e' + 'b' + 'u' + 'i' + '-' + 'f' + 'o' + 'r' + 'g' + 'e'\n",
        "\n",
        "import os\n",
        "\n",
        "!git clone https://github.com/{rkp}/{sdw} /root/Cccc_emm\n",
        "%cd /root/Cccc_emm\n",
        "!npm install -g localtunnel\n",
        "\n",
        "clear_output()\n",
        "\n",
        "print('\u001b[1;32mSD克隆完成!')"
      ],
      "metadata": {
        "id": "2DBghFCXTlD5",
        "cellView": "form"
      },
      "execution_count": null,
      "outputs": []
    },
    {
      "cell_type": "code",
      "source": [
        "#@markdown ## 配置环境\n",
        "!pip install -r /root/Cccc_emm/requirements.txt\n",
        "!pip install xformers==0.0.23.post1 triton==2.1.0\n",
        "!pip install torch==2.1.2+cu121 torchvision==0.16.2+cu121 torchaudio==2.1.2 --extra-index-url https://download.pytorch.org/whl/cu121\n",
        "# !pip install -q insightface onnxruntime-gpu\n",
        "# !pip install chardet fastapi lxml tqdm cryptography\n",
        "# !pip install PyExecJS\n",
        "# !pip install pathos\n",
        "# !pip install openai\n",
        "# !pip install boto3\n",
        "# !pip install aliyun-python-sdk-core\n",
        "# !pip install aliyun-python-sdk-alimt\n",
        "!wget https://raw.githubusercontent.com/lang03383/sd/main/config.json -P /root/Cccc_emm\n",
        "!wget https://raw.githubusercontent.com/lang03383/sd/main/ui-config.json -P /root/Cccc_emm\n",
        "clear_output()\n",
        "print('\u001b[1;32m环境配置完成!')"
      ],
      "metadata": {
        "cellView": "form",
        "id": "qo1s7kwbynVZ"
      },
      "execution_count": null,
      "outputs": []
    },
    {
      "cell_type": "code",
      "source": [
        "#@markdown ## 下载插件\n",
        "from IPython.display import clear_output\n",
        "import subprocess\n",
        "import os\n",
        "\n",
        "!wget -O /content/extensions.txt https://raw.githubusercontent.com/lang03383/sd/main/extensions.txt\n",
        "\n",
        "commands_file_path = '/content/extensions.txt'\n",
        "\n",
        "cloning_dir = '/root/Cccc_emm/extensions'\n",
        "\n",
        "if not os.path.exists(cloning_dir):\n",
        "    os.makedirs(cloning_dir)\n",
        "\n",
        "with open(commands_file_path, 'r') as file:\n",
        "    for line in file:\n",
        "        if line.strip():\n",
        "            try:\n",
        "                print(f\"Executing: {line.strip()}\")\n",
        "                result = subprocess.run(line.strip(), shell=True, check=True, cwd=cloning_dir)\n",
        "                print(f\"The command executed successfully.\\n\")\n",
        "            except subprocess.CalledProcessError as e:\n",
        "                print(f\"An error occurred while executing the command: {line.strip()}.\\n Error message: {e}\\n\")\n",
        "\n",
        "clear_output()\n",
        "\n",
        "print('\u001b[1;32m插件下载完成!')"
      ],
      "metadata": {
        "cellView": "form",
        "id": "QaEbIqg0fjFj"
      },
      "execution_count": null,
      "outputs": []
    },
    {
      "cell_type": "code",
      "source": [
        "#@markdown # 下载模型\n",
        "import os\n",
        "import urllib.parse\n",
        "\n",
        "downloads = [\n",
        "    # 主模型\n",
        "    {\n",
        "        \"path\": \"/root/Cccc_emm/models/Stable-diffusion\",\n",
        "        \"models\": {\n",
        "            \"https://civitai.com/api/download/models/272376\": \"picxReal_10.safetensors\",\n",
        "            \"https://civitai.com/api/download/models/30163\": \"AnythingXL_v50.safetensors\",\n",
        "            \"https://civitai.com/api/download/models/113623\": \"leosamsHelloworldXL_filmGrain20.safetensors\",\n",
        "        },\n",
        "        \"type\": \"主模型\"\n",
        "    },\n",
        "    # Lora模型\n",
        "    {\n",
        "        \"path\": \"/root/Cccc_emm/models/Lora\",\n",
        "        \"models\": {\n",
        "            \"https://civitai.com/api/download/models/62833\": \"add_detail.safetensors\",\n",
        "        },\n",
        "        \"type\": \"Lora模型\"\n",
        "    },\n",
        "    # VAE模型\n",
        "    {\n",
        "        \"path\": \"/root/Cccc_emm/models/VAE\",\n",
        "        \"models\": {\n",
        "            \"https://civitai.com/api/download/models/131658\": \"vae-Ft-Mse-840000.safetensors\",\n",
        "        },\n",
        "        \"type\": \"VAE模型\"\n",
        "    },\n",
        "    # embedding\n",
        "    {\n",
        "        \"path\": \"/root/Cccc_emm/embeddings\",\n",
        "        \"models\": {\n",
        "            \"https://civitai.com/api/download/models/60938\": \"negative_hand-neg.pt\",\n",
        "        },\n",
        "        \"type\": \"embedding\"\n",
        "    },\n",
        "]\n",
        "\n",
        "for download in downloads:\n",
        "    os.makedirs(download['path'], exist_ok=True)\n",
        "    for link, file_name in download['models'].items():\n",
        "        file_path = os.path.join(download['path'], file_name)\n",
        "        if not os.path.exists(file_path):\n",
        "            parsed_url = urllib.parse.urlparse(link)\n",
        "            clean_link = parsed_url.scheme + \"://\" + parsed_url.netloc + parsed_url.path\n",
        "            print(f\"开始下载 {download['type']} ：{file_name}\")\n",
        "            !wget --show-progress -q -O \"$file_path\" \"$clean_link\"\n",
        "            print(f\"\\033[1;32m{download['type']} ：{file_name} 下载完成\\033[0m\")\n",
        "        else:\n",
        "            print(f\"\\033[1;33m{download['type']} ：{file_name} 已存在，跳过下载\\033[0m\")"
      ],
      "metadata": {
        "id": "bpJn2jrDwsbe"
      },
      "execution_count": null,
      "outputs": []
    },
    {
      "cell_type": "code",
      "source": [
        "#@markdown #运行\n",
        "from IPython.display import HTML\n",
        "from IPython.display import display\n",
        "from IPython.display import clear_output\n",
        "import subprocess\n",
        "import re\n",
        "import time\n",
        "\n",
        "%cd /root/Cccc_emm\n",
        "clear_output()\n",
        "\n",
        "lt_command = [\"lt\", \"--port\", \"7860\"]\n",
        "lt_process = subprocess.Popen(lt_command, stdout=subprocess.PIPE, stderr=subprocess.PIPE, text=True)\n",
        "\n",
        "time.sleep(1)\n",
        "\n",
        "output_lines_to_check = 10\n",
        "for _ in range(output_lines_to_check):\n",
        "    line = lt_process.stdout.readline()\n",
        "    url_match = re.search(r\"your url is: (\\S+)\", line)\n",
        "    if url_match:\n",
        "        # print(url_match.group(1))\n",
        "        break\n",
        "\n",
        "wget_output = subprocess.run(['wget', '-q', '-O', '-', 'https://loca.lt/mytunnelpassword'], capture_output=True, text=True)\n",
        "ip_info = wget_output.stdout.strip()\n",
        "display(HTML(f'<span style=\"color: green;\">打开公网链接↓↓↓,双击ip拖动到网页中: {ip_info}</span>'))\n",
        "print(url_match.group(1))\n",
        "\n",
        "\n",
        "lt_process.stdout.close()\n",
        "!python launch.py --xformers --enable-insecure-extension-access --theme dark --disable-console-progressbars --upcast-sampling --skip-torch-cuda-test"
      ],
      "metadata": {
        "id": "OTkRmH5-Ayfo",
        "cellView": "form"
      },
      "execution_count": null,
      "outputs": []
    }
  ],
  "metadata": {
    "colab": {
      "provenance": [],
      "gpuType": "T4",
      "include_colab_link": true
    },
    "kernelspec": {
      "display_name": "Python 3",
      "name": "python3"
    },
    "language_info": {
      "name": "python"
    },
    "accelerator": "GPU"
  },
  "nbformat": 4,
  "nbformat_minor": 0
}